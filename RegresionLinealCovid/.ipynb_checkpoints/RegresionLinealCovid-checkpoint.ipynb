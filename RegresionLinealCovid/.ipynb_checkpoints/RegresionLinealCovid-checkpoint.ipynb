{
 "cells": [
  {
   "cell_type": "markdown",
   "metadata": {},
   "source": [
    "# <img src=\"ups.png\">\n",
    "\n",
    "### Nombre: Fanny Gutama\n",
    "### Docente: Ing. Diego Quisi\n",
    "\n",
    "\n",
    "# Regresion Lineal Covid19\n",
    "\n",
    "### Covid-19 infección en Ecuador. Modelos matemáticos y predicciones\n",
    "Una comparación de modelos, lineal, polilnomico,logísticos y exponenciales aplicados a la infección por el virus Covid-19\n",
    "\n",
    "Se realiza un análisis matemático simple del crecimiento de la infección en Python y dos modelos para comprender mejor la evolución de la infección.\n",
    "\n",
    "Se crea modelos de series temporales del número total de personas infectadas hasta la fecha (es decir, las personas realmente infectadas más las personas que han sido infectadas). Estos modelos tienen parámetros , que se estimarán por ajuste de curva."
   ]
  },
  {
   "cell_type": "code",
   "execution_count": 24,
   "metadata": {},
   "outputs": [],
   "source": [
    "import pandas as pd\n",
    "import numpy as np\n",
    "from datetime import datetime,timedelta\n",
    "from sklearn.metrics import mean_squared_error\n",
    "from scipy.optimize import curve_fit\n",
    "from scipy.optimize import fsolve\n",
    "from sklearn import linear_model\n",
    "from sklearn.linear_model import LinearRegression \n",
    "import matplotlib.pyplot as plt\n",
    "%matplotlib inline"
   ]
  },
  {
   "cell_type": "markdown",
   "metadata": {},
   "source": [
    "## EL modelo lineal"
   ]
  },
  {
   "cell_type": "markdown",
   "metadata": {},
   "source": [
    "La regresión lineal es un algoritmo de aprendizaje supervisado que se utiliza en Machine Learning y en estadística. En su versión más sencilla, lo que haremos es «dibujar una recta» que nos indicará la tendencia de un conjunto de datos continuos.\n",
    "\n",
    "Recordemos rápidamente la fórmula de la recta:\n",
    "\n",
    "Y = mX + b"
   ]
  },
  {
   "cell_type": "markdown",
   "metadata": {},
   "source": [
    "Regresion con Scikit-learn"
   ]
  },
  {
   "cell_type": "code",
   "execution_count": 25,
   "metadata": {},
   "outputs": [
    {
     "data": {
      "image/png": "[encoded data removed]",
      "text/plain": [
       "<Figure size 432x288 with 1 Axes>"
      ]
     },
     "metadata": {
      "needs_background": "light"
     },
     "output_type": "display_data"
    }
   ],
   "source": [
    "def f(x):  \n",
    "    np.random.seed(42) \n",
    "    y = 0.1*x + 1.25 + 0.2*np.random.randn(x.shape[0])\n",
    "    return y\n",
    "\n",
    "df = pd.read_csv('owid-covid-data.csv').fillna(0) \n",
    "ndf= df.loc[(df['location'] == 'Ecuador') & (df['total_cases'] != 0)] \n",
    "ndf1=ndf[['date','total_cases','total_deaths']]\n",
    "x=np.arange(1,len(ndf1)+1,1) \n",
    "y=np.array(ndf1.values[:,1])\n",
    "y1=np.array(ndf1.values[:,2])\n",
    "\n",
    "plt.scatter(x,y,label='# de Casos', color='black')\n",
    "plt.scatter(x,y1,label='# de Muertes', color='yellow')\n",
    "plt.grid(True)\n",
    "plt.legend()\n",
    "plt.title('# de Casos');"
   ]
  },
  {
   "cell_type": "code",
   "execution_count": 26,
   "metadata": {},
   "outputs": [
    {
     "data": {
      "text/html": [
       "<div>\n",
       "<style scoped>\n",
       "    .dataframe tbody tr th:only-of-type {\n",
       "        vertical-align: middle;\n",
       "    }\n",
       "\n",
       "    .dataframe tbody tr th {\n",
       "        vertical-align: top;\n",
       "    }\n",
       "\n",
       "    .dataframe thead th {\n",
       "        text-align: right;\n",
       "    }\n",
       "</style>\n",
       "<table border=\"1\" class=\"dataframe\">\n",
       "  <thead>\n",
       "    <tr style=\"text-align: right;\">\n",
       "      <th></th>\n",
       "      <th>date</th>\n",
       "      <th>total_cases</th>\n",
       "      <th>iso_code</th>\n",
       "    </tr>\n",
       "  </thead>\n",
       "  <tbody>\n",
       "    <tr>\n",
       "      <th>14965</th>\n",
       "      <td>-1</td>\n",
       "      <td>0.0</td>\n",
       "      <td>ECU</td>\n",
       "    </tr>\n",
       "    <tr>\n",
       "      <th>14966</th>\n",
       "      <td>0</td>\n",
       "      <td>0.0</td>\n",
       "      <td>ECU</td>\n",
       "    </tr>\n",
       "    <tr>\n",
       "      <th>14967</th>\n",
       "      <td>1</td>\n",
       "      <td>0.0</td>\n",
       "      <td>ECU</td>\n",
       "    </tr>\n",
       "    <tr>\n",
       "      <th>14968</th>\n",
       "      <td>2</td>\n",
       "      <td>0.0</td>\n",
       "      <td>ECU</td>\n",
       "    </tr>\n",
       "    <tr>\n",
       "      <th>14969</th>\n",
       "      <td>3</td>\n",
       "      <td>0.0</td>\n",
       "      <td>ECU</td>\n",
       "    </tr>\n",
       "    <tr>\n",
       "      <th>...</th>\n",
       "      <td>...</td>\n",
       "      <td>...</td>\n",
       "      <td>...</td>\n",
       "    </tr>\n",
       "    <tr>\n",
       "      <th>15277</th>\n",
       "      <td>311</td>\n",
       "      <td>172508.0</td>\n",
       "      <td>ECU</td>\n",
       "    </tr>\n",
       "    <tr>\n",
       "      <th>15278</th>\n",
       "      <td>312</td>\n",
       "      <td>173486.0</td>\n",
       "      <td>ECU</td>\n",
       "    </tr>\n",
       "    <tr>\n",
       "      <th>15279</th>\n",
       "      <td>313</td>\n",
       "      <td>174907.0</td>\n",
       "      <td>ECU</td>\n",
       "    </tr>\n",
       "    <tr>\n",
       "      <th>15280</th>\n",
       "      <td>314</td>\n",
       "      <td>175269.0</td>\n",
       "      <td>ECU</td>\n",
       "    </tr>\n",
       "    <tr>\n",
       "      <th>15281</th>\n",
       "      <td>315</td>\n",
       "      <td>175711.0</td>\n",
       "      <td>ECU</td>\n",
       "    </tr>\n",
       "  </tbody>\n",
       "</table>\n",
       "<p>317 rows × 3 columns</p>\n",
       "</div>"
      ],
      "text/plain": [
       "       date  total_cases iso_code\n",
       "14965    -1          0.0      ECU\n",
       "14966     0          0.0      ECU\n",
       "14967     1          0.0      ECU\n",
       "14968     2          0.0      ECU\n",
       "14969     3          0.0      ECU\n",
       "...     ...          ...      ...\n",
       "15277   311     172508.0      ECU\n",
       "15278   312     173486.0      ECU\n",
       "15279   313     174907.0      ECU\n",
       "15280   314     175269.0      ECU\n",
       "15281   315     175711.0      ECU\n",
       "\n",
       "[317 rows x 3 columns]"
      ]
     },
     "execution_count": 26,
     "metadata": {},
     "output_type": "execute_result"
    }
   ],
   "source": [
    "\n",
    "df = df[df['location'].isin(['Ecuador'])] #Filtro la Informacion solo para Ecuador\n",
    "df = df.loc[:,['date','total_cases','iso_code']] #Selecciono las columnas de analasis\n",
    "# Expresar las fechas en numero de dias desde el 01 Enero\n",
    "FMT = '%Y-%m-%d'\n",
    "date = df['date']\n",
    "df['date'] = date.map(lambda x : (datetime.strptime(x, FMT) - datetime.strptime(\"2020-01-01\", FMT)).days)\n",
    "\n",
    "df\n",
    "#data[~data.isin([np.nan, np.inf, -np.inf]).any(1)]"
   ]
  },
  {
   "cell_type": "code",
   "execution_count": 27,
   "metadata": {},
   "outputs": [
    {
     "name": "stdout",
     "output_type": "stream",
     "text": [
      "w = 738.7116160121419, b = -20472.994294820717\n",
      "y = 738.7116160121419x -20472.994294820717\n"
     ]
    }
   ],
   "source": [
    "regresion_lineal = LinearRegression() \n",
    "\n",
    "regresion_lineal.fit(x.reshape(-1,1), y) \n",
    "print('w = ' + str(regresion_lineal.coef_[0]) + ', b = ' + str(regresion_lineal.intercept_))\n",
    "if (regresion_lineal.intercept_ < 0):\n",
    "    ecua='y = {}x {}'\n",
    "else:\n",
    "    ecua='y = {}x + {}'\n",
    "print(ecua.format(regresion_lineal.coef_[0],regresion_lineal.intercept_))"
   ]
  },
  {
   "cell_type": "code",
   "execution_count": 28,
   "metadata": {},
   "outputs": [
    {
     "data": {
      "image/png": "[encoded data removed]",
      "text/plain": [
       "<Figure size 432x288 with 1 Axes>"
      ]
     },
     "metadata": {
      "needs_background": "light"
     },
     "output_type": "display_data"
    }
   ],
   "source": [
    "fun= lambda num: regresion_lineal.coef_[0]*num+regresion_lineal.intercept_\n",
    "plt.scatter(x,y,label='Real', color='black')\n",
    "plt.grid(True)\n",
    "plt.title('Regresión Lineal Numero de Casos');\n",
    "x1=np.arange(1,len(ndf1)+51,1)\n",
    "plt.plot(x1,fun(x1),color='red',label='Regresión Lineal')\n",
    "plt.legend()\n",
    "plt.show()"
   ]
  },
  {
   "cell_type": "code",
   "execution_count": 29,
   "metadata": {},
   "outputs": [
    {
     "name": "stdout",
     "output_type": "stream",
     "text": [
      "w = 58.0323081009296, b = -1836.2979123505957\n",
      "y = 58.0323081009296x -1836.2979123505957\n"
     ]
    }
   ],
   "source": [
    "regresion_lineal = LinearRegression() \n",
    "regresion_lineal.fit(x.reshape(-1,1), y1) \n",
    "print('w = ' + str(regresion_lineal.coef_[0]) + ', b = ' + str(regresion_lineal.intercept_))\n",
    "print(ecua.format(regresion_lineal.coef_[0],regresion_lineal.intercept_))"
   ]
  },
  {
   "cell_type": "code",
   "execution_count": 30,
   "metadata": {},
   "outputs": [
    {
     "data": {
      "image/png": "[encoded data removed]",
      "text/plain": [
       "<Figure size 432x288 with 1 Axes>"
      ]
     },
     "metadata": {
      "needs_background": "light"
     },
     "output_type": "display_data"
    }
   ],
   "source": [
    "fun= lambda num: regresion_lineal.coef_[0]*num+regresion_lineal.intercept_\n",
    "plt.scatter(x,y1,label='Real', color='black')\n",
    "plt.grid(True)\n",
    "plt.title('Regresión Lineal Numero de Muertes');\n",
    "x2 = np.arange(1,len(ndf1)+51,1)\n",
    "plt.plot(x2,fun(x2),color='red',label='RL')\n",
    "plt.legend()\n",
    "plt.show()"
   ]
  },
  {
   "cell_type": "code",
   "execution_count": 31,
   "metadata": {},
   "outputs": [
    {
     "data": {
      "text/plain": [
       "<matplotlib.legend.Legend at 0x2aaca1a3370>"
      ]
     },
     "execution_count": 31,
     "metadata": {},
     "output_type": "execute_result"
    },
    {
     "data": {
      "image/png": "[encoded data removed]",
      "text/plain": [
       "<Figure size 432x288 with 1 Axes>"
      ]
     },
     "metadata": {
      "needs_background": "light"
     },
     "output_type": "display_data"
    }
   ],
   "source": [
    "labels = ['Infectados', 'Recuperados', 'Muertos']\n",
    "men_means = [170000,149000,12698]\n",
    "x = np.arange(len(labels))  # the label locations\n",
    "width = 0.35  # the width of the bars\n",
    "\n",
    "fig, ax = plt.subplots()\n",
    "rects1 = ax.bar(x - width/2, men_means, width, label='Porcentaje x cada 10000000')\n",
    "#rects2 = ax.bar(x + width/2, women_means, width, label='Mujer')\n",
    "\n",
    "# Add some text for labels, title and custom x-axis tick labels, etc.\n",
    "ax.set_ylabel('cantidad')\n",
    "ax.set_title('Indice de infectados')\n",
    "ax.set_xticks(x)\n",
    "ax.set_xticklabels(labels)\n",
    "ax.legend()"
   ]
  },
  {
   "cell_type": "markdown",
   "metadata": {},
   "source": [
    "# Criterio personal (politico, economico y social de la situacion)\n",
    "Lo politico juega un papel muy importante ya que de ellos depende de que el virus no se expanda por el pais, o de la organizacion al pais con sus debidas medias de precaucion para que no se expanda el virus ademas de el manejo corecto de los recursos para poder apoyar a todo la poblacion Ecuatoriana.\n",
    "Economicmente el pais esta atravesando una cris por la mala administracion y el poco interes que mostranron los politicos ante esta pandemia.\n",
    "En lo social mucha personas creo que recuperaron la humildad la humanidad de cada persona que es saber ayudar alos que mas necesitan de echo personas que no tiene ayudan a otras personas que no tenian nada.\n",
    "En la actualidad el desempleo incremento y muchas familias atraviesan una situacion terrible, debemos solodarnos con las personas y ayudar alos que no tiene, las personas del campo son las que estan estables economicamente gracias a su trabajo en la tierra.\n"
   ]
  }
 ],
 "metadata": {
  "kernelspec": {
   "display_name": "Python 3",
   "language": "python",
   "name": "python3"
  },
  "language_info": {
   "codemirror_mode": {
    "name": "ipython",
    "version": 3
   },
   "file_extension": ".py",
   "mimetype": "text/x-python",
   "name": "python",
   "nbconvert_exporter": "python",
   "pygments_lexer": "ipython3",
   "version": "3.8.3"
  }
 },
 "nbformat": 4,
 "nbformat_minor": 4
}
