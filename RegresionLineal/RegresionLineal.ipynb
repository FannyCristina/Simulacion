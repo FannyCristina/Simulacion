{
 "cells": [
  {
   "cell_type": "markdown",
   "metadata": {},
   "source": [
    "# <img src=\"ups.png\">\n",
    "\n",
    "### Nombre: Fanny Gutama\n",
    "### Docente: Ing. Diego Quisi\n",
    "\n",
    "## Regresion Lineal."
   ]
  },
  {
   "cell_type": "markdown",
   "metadata": {},
   "source": [
    "# En estadística la regresión lineal o ajuste lineal es un modelo matemático usado para aproximar la relación de dependencia entre una variable dependiente Y, las variables independientes X y un término aleatorio e.\n",
    "Para hacer una estimación del modelo de regresión lineal simple, trataremos de buscar una recta de la forma: de modo que se ajuste a la nube de puntos. Para esto utilizaremos el método de mínimos cuadrados. Este método consiste en minimizarla suma de los cuadrados de los errores: Es decir, la suma de los cuadrados de las diferencias entre los valores reales observados (yi) y los valores estimados ( ˆi y ).\n",
    "\n",
    "Representa una tendencia en una serie de datos obtenidos a través de un largo período. Este tipo de líneas puede decirnos si un conjunto de datos en particular (como por ejemplo, el PIB, el precio del petróleo o el valor de las acciones) han aumentado o decrementado en un determinado período.\n",
    "\n",
    "Las primeras evidencias relacionando la mortalidad con el fumar tabaco9​ vinieron de estudios que utilizaban la regresión lineal. Los investigadores incluyen una gran cantidad de variables en su análisis de regresión en un esfuerzo por eliminar factores que pudieran producir correlaciones espurias.\n",
    "\n",
    "En el caso del tabaquismo, los investigadores incluyeron el estado socioeconómico para asegurarse que los efectos de mortalidad por tabaquismo no sean un efecto de su educación o posición económica.\n",
    "\n",
    "<img src=\"for.png\">\n"
   ]
  },
  {
   "cell_type": "code",
   "execution_count": 1,
   "metadata": {},
   "outputs": [
    {
     "data": {
      "image/png": "[encoded data removed]",
      "text/plain": [
       "<Figure size 432x288 with 1 Axes>"
      ]
     },
     "metadata": {
      "needs_background": "light"
     },
     "output_type": "display_data"
    },
    {
     "name": "stdout",
     "output_type": "stream",
     "text": [
      "[0.2927491]\n"
     ]
    },
    {
     "data": {
      "image/png": "[encoded data removed]",
      "text/plain": [
       "<Figure size 432x288 with 1 Axes>"
      ]
     },
     "metadata": {
      "needs_background": "light"
     },
     "output_type": "display_data"
    },
    {
     "name": "stdout",
     "output_type": "stream",
     "text": [
      "La ecuacion de la recta es: \n",
      "y = 0.2927491004296236 x + 3.5125892794781524\n",
      "Ingrese el numero a predecir81\n",
      "La prediccion es:  [27.22526641]\n"
     ]
    }
   ],
   "source": [
    "import numpy as np\n",
    "import matplotlib.pyplot as plt\n",
    "from sklearn import linear_model\n",
    "\n",
    "def generar_datos():\n",
    "    x = np.random.random(20)*10\n",
    "    y = np.random.random(20)*10\n",
    "    return x.reshape((20,1)), y.reshape((20,1))\n",
    "x,y = generar_datos()\n",
    "\n",
    "plt.plot(x, y,'x')\n",
    "plt.grid(True)\n",
    "plt.show()\n",
    "modelo = linear_model.LinearRegression()\n",
    "modelo.fit(x, y)\n",
    "y_pred = modelo.predict(x)\n",
    "print(modelo.coef_[0])\n",
    "b = -modelo.coef_[0][0]*x[0]+y_pred[0]\n",
    "plt.scatter(x, y)\n",
    "plt.xlim([-5, 20])\n",
    "plt.ylim([-5, 20])\n",
    "plt.plot(x, y_pred, color='red')\n",
    "plt.grid(True)\n",
    "x_real = np.array([0, 100])\n",
    "plt.show()\n",
    "if (b < 0):\n",
    "    ecua ='y = {} x {}'\n",
    "else:\n",
    "    ecua ='y = {} x + {}'\n",
    "print('La ecuacion de la recta es: ')\n",
    "print(ecua.format(modelo.coef_[0][0],b[0]))\n",
    "numero = input('Ingrese el numero a predecir')\n",
    "nuevo_x = np.array([int(numero)])\n",
    "prediccion = modelo.predict(nuevo_x.reshape(-1,1))\n",
    "print(\"La prediccion es: \" , prediccion[0])"
   ]
  }
 ],
 "metadata": {
  "kernelspec": {
   "display_name": "Python 3",
   "language": "python",
   "name": "python3"
  },
  "language_info": {
   "codemirror_mode": {
    "name": "ipython",
    "version": 3
   },
   "file_extension": ".py",
   "mimetype": "text/x-python",
   "name": "python",
   "nbconvert_exporter": "python",
   "pygments_lexer": "ipython3",
   "version": "3.8.3"
  }
 },
 "nbformat": 4,
 "nbformat_minor": 4
}
