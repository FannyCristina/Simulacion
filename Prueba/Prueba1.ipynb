{
 "cells": [
  {
   "cell_type": "markdown",
   "metadata": {},
   "source": [
    "# <img src=\"ups.png\">\n",
    "\n",
    "### Nombre: Fanny Gutama\n",
    "### Docente: Ing. Diego Quisi\n",
    "\n",
    "## Prueba."
   ]
  },
  {
   "cell_type": "markdown",
   "metadata": {},
   "source": [
    "# Enunciado:"
   ]
  },
  {
   "cell_type": "markdown",
   "metadata": {},
   "source": [
    "* Diseñe y desarrolle un modelo y/o script que permita simular el siguiente caso real:"
   ]
  },
  {
   "cell_type": "markdown",
   "metadata": {},
   "source": [
    "* Investigar los datos de los paises contigados por COVID-19, especialmente de latinoamerica (menos Ecuador), deberán escoger uno y que no se repita, para ello se va a seleccionar el orden en el que publique dentro del foro “Tema prueba 1”, con estos datos obtener los siguientes modelos:"
   ]
  },
  {
   "cell_type": "markdown",
   "metadata": {},
   "source": [
    "* Generar un modelo matematico de prediccion para regresion lineal, exponencial, polinomico y logaritmico, de los nuevos contactos en la proxima semana (7 dias despues)."
   ]
  },
  {
   "cell_type": "markdown",
   "metadata": {},
   "source": [
    "# Surinam"
   ]
  },
  {
   "cell_type": "code",
   "execution_count": 43,
   "metadata": {},
   "outputs": [],
   "source": [
    "import pandas as pd\n",
    "import numpy as np\n",
    "from datetime import datetime,timedelta\n",
    "from sklearn.metrics import mean_squared_error\n",
    "from scipy.optimize import curve_fit\n",
    "from scipy.optimize import fsolve\n",
    "from sklearn import linear_model\n",
    "from sklearn.linear_model import LinearRegression \n",
    "import matplotlib.pyplot as plt\n",
    "%matplotlib inline\n"
   ]
  },
  {
   "cell_type": "code",
   "execution_count": 44,
   "metadata": {},
   "outputs": [
    {
     "data": {
      "text/html": [
       "<div>\n",
       "<style scoped>\n",
       "    .dataframe tbody tr th:only-of-type {\n",
       "        vertical-align: middle;\n",
       "    }\n",
       "\n",
       "    .dataframe tbody tr th {\n",
       "        vertical-align: top;\n",
       "    }\n",
       "\n",
       "    .dataframe thead th {\n",
       "        text-align: right;\n",
       "    }\n",
       "</style>\n",
       "<table border=\"1\" class=\"dataframe\">\n",
       "  <thead>\n",
       "    <tr style=\"text-align: right;\">\n",
       "      <th></th>\n",
       "      <th>iso_code</th>\n",
       "      <th>continent</th>\n",
       "      <th>location</th>\n",
       "      <th>date</th>\n",
       "      <th>total_cases</th>\n",
       "      <th>new_cases</th>\n",
       "      <th>new_cases_smoothed</th>\n",
       "      <th>total_deaths</th>\n",
       "      <th>new_deaths</th>\n",
       "      <th>new_deaths_smoothed</th>\n",
       "      <th>...</th>\n",
       "      <th>gdp_per_capita</th>\n",
       "      <th>extreme_poverty</th>\n",
       "      <th>cardiovasc_death_rate</th>\n",
       "      <th>diabetes_prevalence</th>\n",
       "      <th>female_smokers</th>\n",
       "      <th>male_smokers</th>\n",
       "      <th>handwashing_facilities</th>\n",
       "      <th>hospital_beds_per_thousand</th>\n",
       "      <th>life_expectancy</th>\n",
       "      <th>human_development_index</th>\n",
       "    </tr>\n",
       "  </thead>\n",
       "  <tbody>\n",
       "    <tr>\n",
       "      <th>0</th>\n",
       "      <td>AFG</td>\n",
       "      <td>Asia</td>\n",
       "      <td>Afghanistan</td>\n",
       "      <td>2019-12-31</td>\n",
       "      <td>NaN</td>\n",
       "      <td>0.0</td>\n",
       "      <td>NaN</td>\n",
       "      <td>NaN</td>\n",
       "      <td>0.0</td>\n",
       "      <td>NaN</td>\n",
       "      <td>...</td>\n",
       "      <td>1803.987</td>\n",
       "      <td>NaN</td>\n",
       "      <td>597.029</td>\n",
       "      <td>9.59</td>\n",
       "      <td>NaN</td>\n",
       "      <td>NaN</td>\n",
       "      <td>37.746</td>\n",
       "      <td>0.5</td>\n",
       "      <td>64.83</td>\n",
       "      <td>0.498</td>\n",
       "    </tr>\n",
       "    <tr>\n",
       "      <th>1</th>\n",
       "      <td>AFG</td>\n",
       "      <td>Asia</td>\n",
       "      <td>Afghanistan</td>\n",
       "      <td>2020-01-01</td>\n",
       "      <td>NaN</td>\n",
       "      <td>0.0</td>\n",
       "      <td>NaN</td>\n",
       "      <td>NaN</td>\n",
       "      <td>0.0</td>\n",
       "      <td>NaN</td>\n",
       "      <td>...</td>\n",
       "      <td>1803.987</td>\n",
       "      <td>NaN</td>\n",
       "      <td>597.029</td>\n",
       "      <td>9.59</td>\n",
       "      <td>NaN</td>\n",
       "      <td>NaN</td>\n",
       "      <td>37.746</td>\n",
       "      <td>0.5</td>\n",
       "      <td>64.83</td>\n",
       "      <td>0.498</td>\n",
       "    </tr>\n",
       "    <tr>\n",
       "      <th>2</th>\n",
       "      <td>AFG</td>\n",
       "      <td>Asia</td>\n",
       "      <td>Afghanistan</td>\n",
       "      <td>2020-01-02</td>\n",
       "      <td>NaN</td>\n",
       "      <td>0.0</td>\n",
       "      <td>NaN</td>\n",
       "      <td>NaN</td>\n",
       "      <td>0.0</td>\n",
       "      <td>NaN</td>\n",
       "      <td>...</td>\n",
       "      <td>1803.987</td>\n",
       "      <td>NaN</td>\n",
       "      <td>597.029</td>\n",
       "      <td>9.59</td>\n",
       "      <td>NaN</td>\n",
       "      <td>NaN</td>\n",
       "      <td>37.746</td>\n",
       "      <td>0.5</td>\n",
       "      <td>64.83</td>\n",
       "      <td>0.498</td>\n",
       "    </tr>\n",
       "    <tr>\n",
       "      <th>3</th>\n",
       "      <td>AFG</td>\n",
       "      <td>Asia</td>\n",
       "      <td>Afghanistan</td>\n",
       "      <td>2020-01-03</td>\n",
       "      <td>NaN</td>\n",
       "      <td>0.0</td>\n",
       "      <td>NaN</td>\n",
       "      <td>NaN</td>\n",
       "      <td>0.0</td>\n",
       "      <td>NaN</td>\n",
       "      <td>...</td>\n",
       "      <td>1803.987</td>\n",
       "      <td>NaN</td>\n",
       "      <td>597.029</td>\n",
       "      <td>9.59</td>\n",
       "      <td>NaN</td>\n",
       "      <td>NaN</td>\n",
       "      <td>37.746</td>\n",
       "      <td>0.5</td>\n",
       "      <td>64.83</td>\n",
       "      <td>0.498</td>\n",
       "    </tr>\n",
       "    <tr>\n",
       "      <th>4</th>\n",
       "      <td>AFG</td>\n",
       "      <td>Asia</td>\n",
       "      <td>Afghanistan</td>\n",
       "      <td>2020-01-04</td>\n",
       "      <td>NaN</td>\n",
       "      <td>0.0</td>\n",
       "      <td>NaN</td>\n",
       "      <td>NaN</td>\n",
       "      <td>0.0</td>\n",
       "      <td>NaN</td>\n",
       "      <td>...</td>\n",
       "      <td>1803.987</td>\n",
       "      <td>NaN</td>\n",
       "      <td>597.029</td>\n",
       "      <td>9.59</td>\n",
       "      <td>NaN</td>\n",
       "      <td>NaN</td>\n",
       "      <td>37.746</td>\n",
       "      <td>0.5</td>\n",
       "      <td>64.83</td>\n",
       "      <td>0.498</td>\n",
       "    </tr>\n",
       "    <tr>\n",
       "      <th>...</th>\n",
       "      <td>...</td>\n",
       "      <td>...</td>\n",
       "      <td>...</td>\n",
       "      <td>...</td>\n",
       "      <td>...</td>\n",
       "      <td>...</td>\n",
       "      <td>...</td>\n",
       "      <td>...</td>\n",
       "      <td>...</td>\n",
       "      <td>...</td>\n",
       "      <td>...</td>\n",
       "      <td>...</td>\n",
       "      <td>...</td>\n",
       "      <td>...</td>\n",
       "      <td>...</td>\n",
       "      <td>...</td>\n",
       "      <td>...</td>\n",
       "      <td>...</td>\n",
       "      <td>...</td>\n",
       "      <td>...</td>\n",
       "      <td>...</td>\n",
       "    </tr>\n",
       "    <tr>\n",
       "      <th>56106</th>\n",
       "      <td>NaN</td>\n",
       "      <td>NaN</td>\n",
       "      <td>International</td>\n",
       "      <td>2020-11-07</td>\n",
       "      <td>696.0</td>\n",
       "      <td>NaN</td>\n",
       "      <td>NaN</td>\n",
       "      <td>7.0</td>\n",
       "      <td>NaN</td>\n",
       "      <td>NaN</td>\n",
       "      <td>...</td>\n",
       "      <td>NaN</td>\n",
       "      <td>NaN</td>\n",
       "      <td>NaN</td>\n",
       "      <td>NaN</td>\n",
       "      <td>NaN</td>\n",
       "      <td>NaN</td>\n",
       "      <td>NaN</td>\n",
       "      <td>NaN</td>\n",
       "      <td>NaN</td>\n",
       "      <td>NaN</td>\n",
       "    </tr>\n",
       "    <tr>\n",
       "      <th>56107</th>\n",
       "      <td>NaN</td>\n",
       "      <td>NaN</td>\n",
       "      <td>International</td>\n",
       "      <td>2020-11-08</td>\n",
       "      <td>696.0</td>\n",
       "      <td>NaN</td>\n",
       "      <td>NaN</td>\n",
       "      <td>7.0</td>\n",
       "      <td>NaN</td>\n",
       "      <td>NaN</td>\n",
       "      <td>...</td>\n",
       "      <td>NaN</td>\n",
       "      <td>NaN</td>\n",
       "      <td>NaN</td>\n",
       "      <td>NaN</td>\n",
       "      <td>NaN</td>\n",
       "      <td>NaN</td>\n",
       "      <td>NaN</td>\n",
       "      <td>NaN</td>\n",
       "      <td>NaN</td>\n",
       "      <td>NaN</td>\n",
       "    </tr>\n",
       "    <tr>\n",
       "      <th>56108</th>\n",
       "      <td>NaN</td>\n",
       "      <td>NaN</td>\n",
       "      <td>International</td>\n",
       "      <td>2020-11-09</td>\n",
       "      <td>696.0</td>\n",
       "      <td>NaN</td>\n",
       "      <td>NaN</td>\n",
       "      <td>7.0</td>\n",
       "      <td>NaN</td>\n",
       "      <td>NaN</td>\n",
       "      <td>...</td>\n",
       "      <td>NaN</td>\n",
       "      <td>NaN</td>\n",
       "      <td>NaN</td>\n",
       "      <td>NaN</td>\n",
       "      <td>NaN</td>\n",
       "      <td>NaN</td>\n",
       "      <td>NaN</td>\n",
       "      <td>NaN</td>\n",
       "      <td>NaN</td>\n",
       "      <td>NaN</td>\n",
       "    </tr>\n",
       "    <tr>\n",
       "      <th>56109</th>\n",
       "      <td>NaN</td>\n",
       "      <td>NaN</td>\n",
       "      <td>International</td>\n",
       "      <td>2020-11-10</td>\n",
       "      <td>696.0</td>\n",
       "      <td>NaN</td>\n",
       "      <td>NaN</td>\n",
       "      <td>7.0</td>\n",
       "      <td>NaN</td>\n",
       "      <td>NaN</td>\n",
       "      <td>...</td>\n",
       "      <td>NaN</td>\n",
       "      <td>NaN</td>\n",
       "      <td>NaN</td>\n",
       "      <td>NaN</td>\n",
       "      <td>NaN</td>\n",
       "      <td>NaN</td>\n",
       "      <td>NaN</td>\n",
       "      <td>NaN</td>\n",
       "      <td>NaN</td>\n",
       "      <td>NaN</td>\n",
       "    </tr>\n",
       "    <tr>\n",
       "      <th>56110</th>\n",
       "      <td>NaN</td>\n",
       "      <td>NaN</td>\n",
       "      <td>International</td>\n",
       "      <td>2020-11-11</td>\n",
       "      <td>696.0</td>\n",
       "      <td>NaN</td>\n",
       "      <td>NaN</td>\n",
       "      <td>7.0</td>\n",
       "      <td>NaN</td>\n",
       "      <td>NaN</td>\n",
       "      <td>...</td>\n",
       "      <td>NaN</td>\n",
       "      <td>NaN</td>\n",
       "      <td>NaN</td>\n",
       "      <td>NaN</td>\n",
       "      <td>NaN</td>\n",
       "      <td>NaN</td>\n",
       "      <td>NaN</td>\n",
       "      <td>NaN</td>\n",
       "      <td>NaN</td>\n",
       "      <td>NaN</td>\n",
       "    </tr>\n",
       "  </tbody>\n",
       "</table>\n",
       "<p>56111 rows × 49 columns</p>\n",
       "</div>"
      ],
      "text/plain": [
       "      iso_code continent       location        date  total_cases  new_cases  \\\n",
       "0          AFG      Asia    Afghanistan  2019-12-31          NaN        0.0   \n",
       "1          AFG      Asia    Afghanistan  2020-01-01          NaN        0.0   \n",
       "2          AFG      Asia    Afghanistan  2020-01-02          NaN        0.0   \n",
       "3          AFG      Asia    Afghanistan  2020-01-03          NaN        0.0   \n",
       "4          AFG      Asia    Afghanistan  2020-01-04          NaN        0.0   \n",
       "...        ...       ...            ...         ...          ...        ...   \n",
       "56106      NaN       NaN  International  2020-11-07        696.0        NaN   \n",
       "56107      NaN       NaN  International  2020-11-08        696.0        NaN   \n",
       "56108      NaN       NaN  International  2020-11-09        696.0        NaN   \n",
       "56109      NaN       NaN  International  2020-11-10        696.0        NaN   \n",
       "56110      NaN       NaN  International  2020-11-11        696.0        NaN   \n",
       "\n",
       "       new_cases_smoothed  total_deaths  new_deaths  new_deaths_smoothed  ...  \\\n",
       "0                     NaN           NaN         0.0                  NaN  ...   \n",
       "1                     NaN           NaN         0.0                  NaN  ...   \n",
       "2                     NaN           NaN         0.0                  NaN  ...   \n",
       "3                     NaN           NaN         0.0                  NaN  ...   \n",
       "4                     NaN           NaN         0.0                  NaN  ...   \n",
       "...                   ...           ...         ...                  ...  ...   \n",
       "56106                 NaN           7.0         NaN                  NaN  ...   \n",
       "56107                 NaN           7.0         NaN                  NaN  ...   \n",
       "56108                 NaN           7.0         NaN                  NaN  ...   \n",
       "56109                 NaN           7.0         NaN                  NaN  ...   \n",
       "56110                 NaN           7.0         NaN                  NaN  ...   \n",
       "\n",
       "       gdp_per_capita  extreme_poverty  cardiovasc_death_rate  \\\n",
       "0            1803.987              NaN                597.029   \n",
       "1            1803.987              NaN                597.029   \n",
       "2            1803.987              NaN                597.029   \n",
       "3            1803.987              NaN                597.029   \n",
       "4            1803.987              NaN                597.029   \n",
       "...               ...              ...                    ...   \n",
       "56106             NaN              NaN                    NaN   \n",
       "56107             NaN              NaN                    NaN   \n",
       "56108             NaN              NaN                    NaN   \n",
       "56109             NaN              NaN                    NaN   \n",
       "56110             NaN              NaN                    NaN   \n",
       "\n",
       "       diabetes_prevalence  female_smokers  male_smokers  \\\n",
       "0                     9.59             NaN           NaN   \n",
       "1                     9.59             NaN           NaN   \n",
       "2                     9.59             NaN           NaN   \n",
       "3                     9.59             NaN           NaN   \n",
       "4                     9.59             NaN           NaN   \n",
       "...                    ...             ...           ...   \n",
       "56106                  NaN             NaN           NaN   \n",
       "56107                  NaN             NaN           NaN   \n",
       "56108                  NaN             NaN           NaN   \n",
       "56109                  NaN             NaN           NaN   \n",
       "56110                  NaN             NaN           NaN   \n",
       "\n",
       "       handwashing_facilities  hospital_beds_per_thousand  life_expectancy  \\\n",
       "0                      37.746                         0.5            64.83   \n",
       "1                      37.746                         0.5            64.83   \n",
       "2                      37.746                         0.5            64.83   \n",
       "3                      37.746                         0.5            64.83   \n",
       "4                      37.746                         0.5            64.83   \n",
       "...                       ...                         ...              ...   \n",
       "56106                     NaN                         NaN              NaN   \n",
       "56107                     NaN                         NaN              NaN   \n",
       "56108                     NaN                         NaN              NaN   \n",
       "56109                     NaN                         NaN              NaN   \n",
       "56110                     NaN                         NaN              NaN   \n",
       "\n",
       "       human_development_index  \n",
       "0                        0.498  \n",
       "1                        0.498  \n",
       "2                        0.498  \n",
       "3                        0.498  \n",
       "4                        0.498  \n",
       "...                        ...  \n",
       "56106                      NaN  \n",
       "56107                      NaN  \n",
       "56108                      NaN  \n",
       "56109                      NaN  \n",
       "56110                      NaN  \n",
       "\n",
       "[56111 rows x 49 columns]"
      ]
     },
     "execution_count": 44,
     "metadata": {},
     "output_type": "execute_result"
    }
   ],
   "source": [
    "url = 'owid-covid-data.csv'\n",
    "df = pd.read_csv(url)\n",
    "df"
   ]
  },
  {
   "cell_type": "code",
   "execution_count": 28,
   "metadata": {},
   "outputs": [
    {
     "data": {
      "text/html": [
       "<div>\n",
       "<style scoped>\n",
       "    .dataframe tbody tr th:only-of-type {\n",
       "        vertical-align: middle;\n",
       "    }\n",
       "\n",
       "    .dataframe tbody tr th {\n",
       "        vertical-align: top;\n",
       "    }\n",
       "\n",
       "    .dataframe thead th {\n",
       "        text-align: right;\n",
       "    }\n",
       "</style>\n",
       "<table border=\"1\" class=\"dataframe\">\n",
       "  <thead>\n",
       "    <tr style=\"text-align: right;\">\n",
       "      <th></th>\n",
       "      <th>date</th>\n",
       "      <th>total_cases</th>\n",
       "    </tr>\n",
       "  </thead>\n",
       "  <tbody>\n",
       "    <tr>\n",
       "      <th>47735</th>\n",
       "      <td>6</td>\n",
       "      <td>1.0</td>\n",
       "    </tr>\n",
       "    <tr>\n",
       "      <th>47736</th>\n",
       "      <td>12</td>\n",
       "      <td>1.0</td>\n",
       "    </tr>\n",
       "    <tr>\n",
       "      <th>47737</th>\n",
       "      <td>13</td>\n",
       "      <td>5.0</td>\n",
       "    </tr>\n",
       "    <tr>\n",
       "      <th>47738</th>\n",
       "      <td>14</td>\n",
       "      <td>5.0</td>\n",
       "    </tr>\n",
       "    <tr>\n",
       "      <th>47739</th>\n",
       "      <td>15</td>\n",
       "      <td>6.0</td>\n",
       "    </tr>\n",
       "    <tr>\n",
       "      <th>...</th>\n",
       "      <td>...</td>\n",
       "      <td>...</td>\n",
       "    </tr>\n",
       "    <tr>\n",
       "      <th>47967</th>\n",
       "      <td>243</td>\n",
       "      <td>5227.0</td>\n",
       "    </tr>\n",
       "    <tr>\n",
       "      <th>47968</th>\n",
       "      <td>244</td>\n",
       "      <td>5234.0</td>\n",
       "    </tr>\n",
       "    <tr>\n",
       "      <th>47969</th>\n",
       "      <td>245</td>\n",
       "      <td>5239.0</td>\n",
       "    </tr>\n",
       "    <tr>\n",
       "      <th>47970</th>\n",
       "      <td>246</td>\n",
       "      <td>5241.0</td>\n",
       "    </tr>\n",
       "    <tr>\n",
       "      <th>47971</th>\n",
       "      <td>247</td>\n",
       "      <td>5245.0</td>\n",
       "    </tr>\n",
       "  </tbody>\n",
       "</table>\n",
       "<p>237 rows × 2 columns</p>\n",
       "</div>"
      ],
      "text/plain": [
       "       date  total_cases\n",
       "47735     6          1.0\n",
       "47736    12          1.0\n",
       "47737    13          5.0\n",
       "47738    14          5.0\n",
       "47739    15          6.0\n",
       "...     ...          ...\n",
       "47967   243       5227.0\n",
       "47968   244       5234.0\n",
       "47969   245       5239.0\n",
       "47970   246       5241.0\n",
       "47971   247       5245.0\n",
       "\n",
       "[237 rows x 2 columns]"
      ]
     },
     "execution_count": 28,
     "metadata": {},
     "output_type": "execute_result"
    }
   ],
   "source": [
    "\n",
    "df = df[df['location'].isin(['Suriname'])] \n",
    "df = df.loc[:,['date','total_cases']] \n",
    "FMT = '%Y-%m-%d'\n",
    "date = df['date']\n",
    "df['date'] = date.map(lambda x : (datetime.strptime(x, FMT) - datetime.strptime(\"2020-03-09\", FMT)).days)\n",
    "\n",
    "df"
   ]
  },
  {
   "cell_type": "markdown",
   "metadata": {},
   "source": [
    "## Regresion Lineal"
   ]
  },
  {
   "cell_type": "code",
   "execution_count": 35,
   "metadata": {},
   "outputs": [
    {
     "name": "stdout",
     "output_type": "stream",
     "text": [
      "Ecuación\n",
      "m = [29.09767398] b = -1735.5599079744727\n",
      "Predicción\n",
      "[5364.2725429]\n"
     ]
    },
    {
     "data": {
      "image/png": "[encoded data removed]",
      "text/plain": [
       "<Figure size 432x288 with 1 Axes>"
      ]
     },
     "metadata": {
      "needs_background": "light"
     },
     "output_type": "display_data"
    }
   ],
   "source": [
    "\n",
    "x = list(df.iloc [:, 0]) \n",
    "y = list(df.iloc [:, 1])\n",
    "regr = linear_model.LinearRegression()\n",
    "regr.fit(np.array(x).reshape(-1, 1) ,y)\n",
    "print(\"Ecuación\")\n",
    "print('m = ' + str(regr.coef_) + ' b = ' + str(regr.intercept_))\n",
    "print(\"Predicción\")\n",
    "y_predict = regr.predict([[len(x)+7]])\n",
    "print(y_predict)\n",
    "plt.scatter(x,y)\n",
    "x_real = np.array(range(min(x),max(x)))\n",
    "plt.plot(x_real, regr.predict(x_real.reshape(-1,1)), color='black')\n",
    "plt.show()"
   ]
  },
  {
   "cell_type": "markdown",
   "metadata": {},
   "source": [
    "## Regresion exponencial"
   ]
  },
  {
   "cell_type": "code",
   "execution_count": 42,
   "metadata": {},
   "outputs": [
    {
     "name": "stdout",
     "output_type": "stream",
     "text": [
      "[0.03706879 1.43745609]\n",
      "Predicción\n",
      "33126.956119718554\n"
     ]
    },
    {
     "data": {
      "image/png": "[encoded data removed]",
      "text/plain": [
       "<Figure size 432x288 with 1 Axes>"
      ]
     },
     "metadata": {
      "needs_background": "light"
     },
     "output_type": "display_data"
    }
   ],
   "source": [
    "xexp = np.arange(1,len(df)+1,1) # Fecha\n",
    "yexp = np.array(df.values[:,1],dtype='float') # Numero de casos\n",
    "\n",
    "xexp = xexp[27:len(xexp)-1]\n",
    "yexp = yexp[27:len(yexp)-1]\n",
    "\n",
    "curve_fit=np.polyfit(xexp,np.log(yexp),1)\n",
    "print(curve_fit)\n",
    "\n",
    "pred_x=np.array(list(range(min(xexp),max(xexp)+7)))\n",
    "yx=np.exp(curve_fit[1])*np.exp(curve_fit[0]*pred_x)\n",
    "print(\"Predicción\")\n",
    "print(yx[len(yx)-1])\n",
    "plt.plot(xexp,yexp,\"o\")\n",
    "plt.plot(pred_x,yx,color='black',linewidth=3.0)\n",
    "plt.grid(True)\n",
    "plt.show()"
   ]
  },
  {
   "cell_type": "markdown",
   "metadata": {},
   "source": [
    "## Regresion Polinomico\n"
   ]
  },
  {
   "cell_type": "code",
   "execution_count": 36,
   "metadata": {},
   "outputs": [
    {
     "name": "stdout",
     "output_type": "stream",
     "text": [
      "           5             4           3         2\n",
      "9.878e-08 x - 7.737e-05 x + 0.01965 x - 1.764 x + 54.89 x - 375.8\n",
      "Predicción\n",
      "4714.5\n"
     ]
    },
    {
     "data": {
      "image/png": "[encoded data removed]",
      "text/plain": [
       "<Figure size 432x288 with 1 Axes>"
      ]
     },
     "metadata": {
      "needs_background": "light"
     },
     "output_type": "display_data"
    }
   ],
   "source": [
    "xpol = np.arange(1,len(df)+1,1,dtype='float') \n",
    "ypol = np.array(df.values[:,1],dtype='float') \n",
    "funcion_polinomial = np.poly1d(np.polyfit(xpol,ypol,5))\n",
    "print(funcion_polinomial)\n",
    "\n",
    "print(\"Predicción\")\n",
    "print(round(funcion_polinomial(len(xpol)+7),2))\n",
    "y_pred = funcion_polinomial(xpol)\n",
    "\n",
    "plt.scatter(xpol,ypol)\n",
    "plt.plot(xpol,y_pred, c='black')\n",
    "plt.grid(True)\n",
    "plt.show()"
   ]
  },
  {
   "cell_type": "markdown",
   "metadata": {},
   "source": [
    "## Regresion logaritmico"
   ]
  },
  {
   "cell_type": "code",
   "execution_count": 40,
   "metadata": {},
   "outputs": [
    {
     "name": "stdout",
     "output_type": "stream",
     "text": [
      "Predicción\n",
      "3629.997595071727\n"
     ]
    },
    {
     "data": {
      "image/png": "[encoded data removed]",
      "text/plain": [
       "<Figure size 432x288 with 1 Axes>"
      ]
     },
     "metadata": {
      "needs_background": "light"
     },
     "output_type": "display_data"
    }
   ],
   "source": [
    "def modelo_logistico(x,a,b):\n",
    "    return a+b*np.log(x)\n",
    "\n",
    "xlog = np.arange(1,len(df)+1,1)\n",
    "ylog = np.array(df.values[:,1]) \n",
    "\n",
    "exp_fit = curve_fit(modelo_logistico,xlog,ylog) \n",
    "\n",
    "pred_x = list(range(min(xlog),max(xlog)+7))\n",
    "plt.scatter(xlog,ylog,color='black')\n",
    "val = [modelo_logistico(i,exp_fit[0][0],exp_fit[0][1]) for i in pred_x]\n",
    "print(\"Predicción\")\n",
    "print(val[len(pred_x)-1])\n",
    "plt.plot(pred_x, [modelo_logistico(i,exp_fit[0][0],exp_fit[0][1]) for i in pred_x])\n",
    "plt.ylim(0,max(y)*2)\n",
    "plt.show()"
   ]
  },
  {
   "cell_type": "markdown",
   "metadata": {},
   "source": [
    "# Generar un modelo probabilistico con los datos."
   ]
  },
  {
   "cell_type": "code",
   "execution_count": 38,
   "metadata": {},
   "outputs": [
    {
     "data": {
      "text/plain": [
       "<matplotlib.axes._subplots.AxesSubplot at 0x1e83281b190>"
      ]
     },
     "execution_count": 38,
     "metadata": {},
     "output_type": "execute_result"
    },
    {
     "data": {
      "image/png": "[encoded data removed]",
      "text/plain": [
       "<Figure size 432x288 with 1 Axes>"
      ]
     },
     "metadata": {
      "needs_background": "light"
     },
     "output_type": "display_data"
    }
   ],
   "source": [
    "df.plot(x='date',y='total_cases')"
   ]
  },
  {
   "cell_type": "code",
   "execution_count": 39,
   "metadata": {},
   "outputs": [
    {
     "name": "stdout",
     "output_type": "stream",
     "text": [
      "2275.7428571428572\n",
      "1558.5\n",
      "Predicción\n",
      "6803\n"
     ]
    }
   ],
   "source": [
    "\n",
    "filtro = df['total_cases'][27:]\n",
    "media = filtro.mean()\n",
    "mediana = filtro.median()\n",
    "print(media)\n",
    "print(mediana)\n",
    "print(\"Predicción\")\n",
    "print(int(y[-1] + mediana))"
   ]
  },
  {
   "cell_type": "code",
   "execution_count": 34,
   "metadata": {},
   "outputs": [
    {
     "data": {
      "image/png": "[encoded data removed]",
      "text/plain": [
       "<Figure size 432x288 with 1 Axes>"
      ]
     },
     "metadata": {
      "needs_background": "light"
     },
     "output_type": "display_data"
    },
    {
     "name": "stdout",
     "output_type": "stream",
     "text": [
      "Predicción\n",
      "17709\n"
     ]
    }
   ],
   "source": [
    "for i in range(x[-1], x[-1]+7):\n",
    "    x.append(i)\n",
    "    y.append(int(y[-1]+mediana))\n",
    "predict = int(y[-1] + mediana)\n",
    "plt.plot(x,y)\n",
    "plt.show()\n",
    "print(\"Predicción\")\n",
    "print(predict)"
   ]
  },
  {
   "cell_type": "markdown",
   "metadata": {},
   "source": [
    "## Finalmente, contrarestar los modelos matematicos y generar las siguientes conclusiones"
   ]
  },
  {
   "cell_type": "markdown",
   "metadata": {},
   "source": [
    "* ¿Cual tiene una mejor prediccion?\n",
    "EL modelo que tiene la mejor predicion es el Polinomico, ya que en su predicion casi nos da el numero exacto sin tanto decimales, los decimales causan variacion en los resultados a la hora de aser los calculos.\n",
    "* Ventajas y desventajas de los modelos.\n",
    "- Ventajas\n",
    "    * El modelo lineal es facil de implementar \n",
    "    * El modelo lineal son mas rapidas de implementar.\n",
    "    * El modelo logaritmico es facil de modelar\n",
    "    * EL modelo exponencial no necesita un gran volumen de datos historicos.\n",
    "    * El medelo polinmial modela bien los datos no lineales\n",
    "    * El modelo polinomial es la solucion cuando los datos no son lienales.\n",
    "- Desventajas\n",
    "    * El modelo lineal no se puede utilizar con ecuaciones complejas.\n",
    "    * El modelo logoritmico no se puede ajustar alos datos no lineales.\n",
    "    * El modelo exponencial no modela correlaciones.\n",
    "    * El modelo polinomial necesita datos especificos.\n",
    "* Cual es el principal problema del modelo probabilistico\n",
    "Su principal problema es no trabajar gran volumen de datos, ya que comete muchos errores  y da como resultado una prediccion erronea.\n"
   ]
  }
 ],
 "metadata": {
  "kernelspec": {
   "display_name": "Python 3",
   "language": "python",
   "name": "python3"
  },
  "language_info": {
   "codemirror_mode": {
    "name": "ipython",
    "version": 3
   },
   "file_extension": ".py",
   "mimetype": "text/x-python",
   "name": "python",
   "nbconvert_exporter": "python",
   "pygments_lexer": "ipython3",
   "version": "3.8.3"
  }
 },
 "nbformat": 4,
 "nbformat_minor": 4
}
