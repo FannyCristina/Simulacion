{
 "cells": [
  {
   "cell_type": "markdown",
   "metadata": {},
   "source": [
    "# <img src=\"ups.png\">\n",
    "\n",
    "### Nombre: Fanny Gutama\n",
    "### Docente: Ing. Diego Quisi\n",
    "\n",
    "## Regresion Lineal."
   ]
  },
  {
   "cell_type": "markdown",
   "metadata": {},
   "source": [
    "\n",
    "# Covid-19 infección en Ecuador. Modelos matemáticos y predicciones\n",
    "Una comparación de modelos, lineal, polilnomico,logísticos y exponenciales aplicados a la infección por el virus Covid-19\n",
    "\n",
    "Se realiza un análisis matemático simple del crecimiento de la infección en Python y dos modelos para comprender mejor la evolución de la infección.\n",
    "\n",
    "Se crea modelos de series temporales del número total de personas infectadas hasta la fecha (es decir, las personas realmente infectadas más las personas que han sido infectadas). Estos modelos tienen parámetros , que se estimarán por ajuste de curva."
   ]
  },
  {
   "cell_type": "code",
   "execution_count": 16,
   "metadata": {},
   "outputs": [],
   "source": [
    "import pandas as pd\n",
    "import numpy as np\n",
    "from datetime import datetime,timedelta\n",
    "from sklearn.metrics import mean_squared_error\n",
    "from scipy.optimize import curve_fit\n",
    "from scipy.optimize import fsolve\n",
    "from sklearn import linear_model\n",
    "from sklearn.linear_model import LogisticRegression\n",
    "import matplotlib.pyplot as plt\n",
    "%matplotlib inline"
   ]
  },
  {
   "cell_type": "code",
   "execution_count": 17,
   "metadata": {},
   "outputs": [],
   "source": [
    "df = pd.read_csv('owid-covid-data.csv').fillna(0)\n",
    "ndf= df.loc[(df['location'] == 'Ecuador') & (df['total_cases'] != 0)] \n",
    "ndf1=ndf[['date','total_cases','total_deaths']]\n",
    "x=np.arange(1,len(ndf1)+1,1)\n",
    "y=np.array(ndf1.values[:,1])\n",
    "y1=np.array(ndf1.values[:,2])\n",
    "\n"
   ]
  },
  {
   "cell_type": "code",
   "execution_count": 18,
   "metadata": {},
   "outputs": [
    {
     "data": {
      "text/html": [
       "<div>\n",
       "<style scoped>\n",
       "    .dataframe tbody tr th:only-of-type {\n",
       "        vertical-align: middle;\n",
       "    }\n",
       "\n",
       "    .dataframe tbody tr th {\n",
       "        vertical-align: top;\n",
       "    }\n",
       "\n",
       "    .dataframe thead th {\n",
       "        text-align: right;\n",
       "    }\n",
       "</style>\n",
       "<table border=\"1\" class=\"dataframe\">\n",
       "  <thead>\n",
       "    <tr style=\"text-align: right;\">\n",
       "      <th></th>\n",
       "      <th>date</th>\n",
       "      <th>total_cases</th>\n",
       "      <th>iso_code</th>\n",
       "    </tr>\n",
       "  </thead>\n",
       "  <tbody>\n",
       "    <tr>\n",
       "      <th>14965</th>\n",
       "      <td>1</td>\n",
       "      <td>0.0</td>\n",
       "      <td>ECU</td>\n",
       "    </tr>\n",
       "    <tr>\n",
       "      <th>14966</th>\n",
       "      <td>2</td>\n",
       "      <td>0.0</td>\n",
       "      <td>ECU</td>\n",
       "    </tr>\n",
       "    <tr>\n",
       "      <th>14967</th>\n",
       "      <td>3</td>\n",
       "      <td>0.0</td>\n",
       "      <td>ECU</td>\n",
       "    </tr>\n",
       "    <tr>\n",
       "      <th>14968</th>\n",
       "      <td>4</td>\n",
       "      <td>0.0</td>\n",
       "      <td>ECU</td>\n",
       "    </tr>\n",
       "    <tr>\n",
       "      <th>14969</th>\n",
       "      <td>5</td>\n",
       "      <td>0.0</td>\n",
       "      <td>ECU</td>\n",
       "    </tr>\n",
       "    <tr>\n",
       "      <th>...</th>\n",
       "      <td>...</td>\n",
       "      <td>...</td>\n",
       "      <td>...</td>\n",
       "    </tr>\n",
       "    <tr>\n",
       "      <th>15277</th>\n",
       "      <td>313</td>\n",
       "      <td>172508.0</td>\n",
       "      <td>ECU</td>\n",
       "    </tr>\n",
       "    <tr>\n",
       "      <th>15278</th>\n",
       "      <td>314</td>\n",
       "      <td>173486.0</td>\n",
       "      <td>ECU</td>\n",
       "    </tr>\n",
       "    <tr>\n",
       "      <th>15279</th>\n",
       "      <td>315</td>\n",
       "      <td>174907.0</td>\n",
       "      <td>ECU</td>\n",
       "    </tr>\n",
       "    <tr>\n",
       "      <th>15280</th>\n",
       "      <td>316</td>\n",
       "      <td>175269.0</td>\n",
       "      <td>ECU</td>\n",
       "    </tr>\n",
       "    <tr>\n",
       "      <th>15281</th>\n",
       "      <td>317</td>\n",
       "      <td>175711.0</td>\n",
       "      <td>ECU</td>\n",
       "    </tr>\n",
       "  </tbody>\n",
       "</table>\n",
       "<p>317 rows × 3 columns</p>\n",
       "</div>"
      ],
      "text/plain": [
       "       date  total_cases iso_code\n",
       "14965     1          0.0      ECU\n",
       "14966     2          0.0      ECU\n",
       "14967     3          0.0      ECU\n",
       "14968     4          0.0      ECU\n",
       "14969     5          0.0      ECU\n",
       "...     ...          ...      ...\n",
       "15277   313     172508.0      ECU\n",
       "15278   314     173486.0      ECU\n",
       "15279   315     174907.0      ECU\n",
       "15280   316     175269.0      ECU\n",
       "15281   317     175711.0      ECU\n",
       "\n",
       "[317 rows x 3 columns]"
      ]
     },
     "execution_count": 18,
     "metadata": {},
     "output_type": "execute_result"
    }
   ],
   "source": [
    "\n",
    "df = df[df['location'].isin(['Ecuador'])] #Filtro la Informacion solo para Ecuador\n",
    "df = df.loc[:,['date','total_cases','iso_code']] #Selecciono las columnas de analasis\n",
    "# Expresar las fechas en numero de dias desde el 01 Enero\n",
    "FMT = '%Y-%m-%d'\n",
    "date = df['date']\n",
    "df['date'] = date.map(lambda x : (datetime.strptime(x, FMT) - datetime.strptime(\"2019-12-30\", FMT)).days)\n",
    "\n",
    "df"
   ]
  },
  {
   "cell_type": "code",
   "execution_count": 19,
   "metadata": {},
   "outputs": [
    {
     "name": "stdout",
     "output_type": "stream",
     "text": [
      "(array([-139418.21968208,   46699.81937434]), array([[ 84876808.72596902, -17896201.08634508],\n",
      "       [-17896201.08634508,   3941788.34758305]]))\n",
      "\n",
      "(array([-10970.99926502,   3622.5394974 ]), array([[ 619139.23512667, -130544.96786689],\n",
      "       [-130544.96786689,   28753.62382701]]))\n"
     ]
    }
   ],
   "source": [
    "def modelo_logistico(x,a,b):\n",
    "    return a+b*np.log(x)\n",
    "\n",
    "exp_fit = curve_fit(modelo_logistico,x,y) \n",
    "exp_fit1 = curve_fit(modelo_logistico,x,y1) \n",
    "\n",
    "print(exp_fit)\n",
    "print(\"\")\n",
    "print(exp_fit1)"
   ]
  },
  {
   "cell_type": "code",
   "execution_count": 20,
   "metadata": {},
   "outputs": [
    {
     "data": {
      "image/png": "[encoded data removed]",
      "text/plain": [
       "<Figure size 432x288 with 1 Axes>"
      ]
     },
     "metadata": {
      "needs_background": "light"
     },
     "output_type": "display_data"
    }
   ],
   "source": [
    "pred_x = list(range(min(x),max(x)+50))\n",
    "plt.scatter(x,y,label=\"Casos\",color=\"red\")\n",
    "plt.plot(pred_x, [modelo_logistico(i,exp_fit[0][0],exp_fit[0][1]) for i in pred_x], label=\"Modelo Logistico\" )\n",
    "plt.legend()\n",
    "plt.grid(True)\n",
    "plt.xlabel(\"Desde el 1 Marzo 2020\")\n",
    "plt.ylabel(\"Total de personas infectadas\")\n",
    "plt.ylim(0,max(y)*2) \n",
    "plt.show()"
   ]
  },
  {
   "cell_type": "code",
   "execution_count": 21,
   "metadata": {},
   "outputs": [
    {
     "data": {
      "image/png": "[encoded data removed]",
      "text/plain": [
       "<Figure size 432x288 with 1 Axes>"
      ]
     },
     "metadata": {
      "needs_background": "light"
     },
     "output_type": "display_data"
    }
   ],
   "source": [
    "plt.scatter(x,y1,label=\"Datos Reales Muertes\",color=\"red\")\n",
    "plt.plot(pred_x, [modelo_logistico(i,exp_fit1[0][0],exp_fit1[0][1]) for i in pred_x], label=\"Modelo Logistico\" )\n",
    "plt.legend()\n",
    "plt.grid(True)\n",
    "plt.xlabel(\"Desde el 1 Marzo 2020\")\n",
    "plt.ylabel(\"Total de personas muertas\")\n",
    "plt.ylim(0,max(y1)*2)\n",
    "plt.show()"
   ]
  },
  {
   "cell_type": "markdown",
   "metadata": {},
   "source": [
    "# Criterio personal (politico, economico y social de la situacion)\n",
    "El ambito politico frente al covid juega un papel muy importante, ya que un buen manejo de los recursos del pais, puede dar una pronta respuesta a la pandemia mediante un buen manejo de entidades de salud y una buena planificacion, esto de cierta forma ayudaria a reducir los contagios y a manejar de mejor manera, ya que en pleno rebrote fuimos uno de los paises latinoamericanos mas afectado y con un alto indice de mortalidad como consecuencia del mal manejo y de la descarada corrupcion que existe, en cuanto a lo economico, es una etapa bastante dificil para el pais y su comunidad, debido a que la tasa de subempleo incrementa y tambien existen reduccion en la nomida de empleados, lo que trae consigo como consecuencia, que las personas no tengan dinero para mantenerse, tampoco puden acceder a la canasta basica, que desencadena en varios factores tales como desnutricion, enfermedades, personas sin hogar por la falta de posibilidades economicas, otros buscan obtener ingresos mediante microemprendimientos, para aliviar de cierta forma este problema, y en lo social haciendo referencia a puntos mencionados anteriormente se puede decir que afecta a todas las personas, en distintos ambitos tales como empleo, ingresos, comercios, salud, vivieda."
   ]
  },
  {
   "cell_type": "code",
   "execution_count": null,
   "metadata": {},
   "outputs": [],
   "source": []
  }
 ],
 "metadata": {
  "kernelspec": {
   "display_name": "Python 3",
   "language": "python",
   "name": "python3"
  },
  "language_info": {
   "codemirror_mode": {
    "name": "ipython",
    "version": 3
   },
   "file_extension": ".py",
   "mimetype": "text/x-python",
   "name": "python",
   "nbconvert_exporter": "python",
   "pygments_lexer": "ipython3",
   "version": "3.8.3"
  }
 },
 "nbformat": 4,
 "nbformat_minor": 4
}
